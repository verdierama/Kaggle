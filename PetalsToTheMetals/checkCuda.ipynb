{
 "cells": [
  {
   "cell_type": "code",
   "execution_count": null,
   "metadata": {},
   "outputs": [
    {
     "name": "stdout",
     "output_type": "stream",
     "text": [
      "************* test with pycuda **************\n",
      "Number of GPUs detected: 1\n",
      "GPU name: NVIDIA GeForce RTX 4070\n",
      "************* test with pytorch **************\n",
      "Version de pytorch (should be 1.12.1+cu113) : 1.12.1+cu113\n",
      "max cuda version supported (should be 11.3) :  11.3\n",
      "Tenseur sur le GPU/CPU :\n",
      "tensor([[0.6561, 0.6238, 0.8828, 0.7322, 0.0444],\n",
      "        [0.0353, 0.8930, 0.0228, 0.0406, 0.2489],\n",
      "        [0.6343, 0.2250, 0.2236, 0.7062, 0.6134],\n",
      "        [0.9733, 0.4690, 0.8805, 0.6642, 0.6936],\n",
      "        [0.0499, 0.4085, 0.4630, 0.1354, 0.3884]], device='cuda:0')\n",
      "Device utilisé : cuda\n",
      "************* test with tensorflow **************\n",
      "Version de TensorFlow (should be 2.10.0): 2.10.0\n",
      "GPU disponible : [PhysicalDevice(name='/physical_device:GPU:0', device_type='GPU')]\n",
      "True\n",
      "True\n",
      "Temps d'exécution sur CPU : 49.821518659591675\n",
      "Temps d'exécution sur GPU : 0.05599808692932129\n",
      "speed increase using GPU : 88970.03699871845\n"
     ]
    }
   ],
   "source": [
    "import pycuda.driver as cuda\n",
    "cuda.init()\n",
    "\n",
    "# Check how many CUDA-capable devices are available\n",
    "print(\"************* test with pycuda **************\")\n",
    "num_gpus = cuda.Device.count()\n",
    "print(f\"Number of GPUs detected: {num_gpus}\")\n",
    "\n",
    "# Get the name of the first GPU\n",
    "if num_gpus > 0:\n",
    "    gpu = cuda.Device(0)\n",
    "    print(f\"GPU name: {gpu.name()}\")\n",
    "else:\n",
    "    print(\"No CUDA-enabled devices found.\")\n",
    "\n",
    "import torch\n",
    "#pip install torch torchvision torchaudio --index-url https://download.pytorch.org/whl/cu113\n",
    "print(\"************* test with pytorch **************\")\n",
    "print(\"Version de pytorch (should be 1.12.1+cu113) :\", torch.__version__)\n",
    "print(\"max cuda version supported (should be 11.3) : \",torch.version.cuda)\n",
    "\n",
    "# Vérifier si un GPU est disponible\n",
    "device = torch.device(\"cuda\" if torch.cuda.is_available() else \"cpu\")\n",
    "\n",
    "# Créer un tenseur et envoyer sur le GPU si disponible\n",
    "x = torch.rand(5, 5).to(device)\n",
    "print(\"Tenseur sur le GPU/CPU :\")\n",
    "print(x)\n",
    "print(\"Device utilisé :\", device)\n",
    "\n",
    "import tensorflow as tf\n",
    "print(\"************* test with tensorflow **************\")\n",
    "\n",
    "print(\"Version de TensorFlow (should be 2.10.0):\", tf.__version__)\n",
    "print(\"GPU disponible :\", tf.config.list_physical_devices('GPU'))\n",
    "\n",
    "print(tf.test.is_built_with_cuda())  # True si CUDA est bien pris en charge\n",
    "print(tf.test.is_gpu_available())    # True si un GPU est détecté\n",
    "\n",
    "import time\n",
    "\n",
    "# Création d'un tenseur\n",
    "a = tf.random.normal([20000, 20000])\n",
    "\n",
    "# Calcul sur CPU\n",
    "with tf.device('/CPU:0'):\n",
    "    start_time = time.time()\n",
    "    c_cpu = tf.matmul(a, a)\n",
    "    delay_cpu = time.time() - start_time\n",
    "    print(\"Temps d'exécution sur CPU :\", delay_cpu)\n",
    "\n",
    "# Calcul sur GPU\n",
    "with tf.device('/GPU:0'):\n",
    "    start_time = time.time()\n",
    "    c_gpu = tf.matmul(a, a)\n",
    "    delay_gpu = time.time() - start_time\n",
    "    print(\"Temps d'exécution sur GPU :\", delay_gpu)\n",
    "    if delay_gpu != 0:\n",
    "        print(\"speed increase using GPU :\", 100 * delay_cpu/delay_gpu)\n"
   ]
  },
  {
   "cell_type": "markdown",
   "metadata": {},
   "source": []
  }
 ],
 "metadata": {
  "kernelspec": {
   "display_name": ".venv",
   "language": "python",
   "name": "python3"
  },
  "language_info": {
   "codemirror_mode": {
    "name": "ipython",
    "version": 3
   },
   "file_extension": ".py",
   "mimetype": "text/x-python",
   "name": "python",
   "nbconvert_exporter": "python",
   "pygments_lexer": "ipython3",
   "version": "3.9.0"
  }
 },
 "nbformat": 4,
 "nbformat_minor": 2
}
